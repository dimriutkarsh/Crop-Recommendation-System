import numpy as np
import pandas as pd
import seaborn as sns
import matplotlib.pyplot as plt
import warnings

warnings.filterwarnings('ignore')


df= pd.read_csv('Crop_recommendation.csv')
df.head()


df['label'].value_counts()



col=["N","P","K","temperature","humidity","ph","rainfall"]
for i in col:
    plt.figure(figsize=(8,4))
    sns.boxplot(data=df,x=i,y="label")


df.info()


df.isnull().sum()


df.duplicated().sum()



sns.heatmap(df.corr(numeric_only=True),annot=True)


from sklearn.preprocessing import StandardScaler


scaler = StandardScaler()


for i in col:
    df[i] = df[i].round(2)
    df[[i]]= scaler.fit_transform(df[[i]])


df


from sklearn.preprocessing import LabelEncoder


le= LabelEncoder()


df['Label'] = le.fit_transform(df['label'])


df.head()


X= df.drop(['label','Label'], axis=1)
y=df['Label']



from sklearn.model_selection import train_test_split
X_train,X_test,y_train,y_test=train_test_split(X,y,test_size=0.20)


x_train_scaler=scaler.fit_transform(X_train)
x_test_scaler=scaler.fit_transform(X_test)


from xgboost import XGBRegressor,XGBClassifier
from sklearn.ensemble import GradientBoostingRegressor,AdaBoostRegressor,RandomForestRegressor,GradientBoostingClassifier,AdaBoostClassifier,RandomForestClassifier
from sklearn.linear_model import LogisticRegression
from sklearn.neighbors import KNeighborsClassifier
from sklearn.tree import DecisionTreeClassifier
from sklearn.svm import SVC
from sklearn.naive_bayes import GaussianNB
from sklearn.metrics import accuracy_score,recall_score,precision_score
from sklearn.model_selection import cross_val_score


models= {
    "logistic_regression":LogisticRegression(),
    "KNN":KNeighborsClassifier(),
    "Neive_bayes":GaussianNB(),
    "Decision_tree":DecisionTreeClassifier(),
    "SVM":SVC(),
    "Gradient Boosting Classifier": GradientBoostingClassifier(),
    "Ada Boost Classifier":AdaBoostClassifier(),
    "Random Forest Classifier":RandomForestClassifier(),
    "XGBoost Classifier":XGBClassifier()
}
result2=[]


for name,model in models.items():
    model.fit(x_train_scaler,y_train)
    y_pred= model.predict(x_test_scaler)
    acc=accuracy_score(y_test,y_pred)
    recall=recall_score(y_test,y_pred,average='weighted')
    pre=precision_score(y_test,y_pred,average='weighted')
    scores = cross_val_score(model, X_train, y_train, cv=10, scoring='accuracy')
    result2.append({
        "model":name,"accuracy":round(acc,4),'recall':round(recall,4),'precision':round(pre,4)})


pd.DataFrame(result2)


import joblib
joblib.dump(models['Random Forest Classifier'],'model.pkl')



joblib.dump(scaler,"scaler.pkl")



joblib.dump(X.columns.tolist(),"coloum.pkl")


joblib.dump(le, "label_encoder.pkl")



